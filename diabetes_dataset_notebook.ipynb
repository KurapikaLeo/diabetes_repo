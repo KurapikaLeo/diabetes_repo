{
 "cells": [
  {
   "cell_type": "markdown",
   "id": "1dbfec38",
   "metadata": {},
   "source": [
    "<a id='table_of_contents'></a>\n",
    "\n",
    "0. [Import libraries](#imports)\n",
    "1. [Import data](#import_data)\n",
    "2. [Data exploration](#data_exploration)\n",
    "3. [Benchmark model](#benchmark_model)<br>\n",
    "    3.1 [Decision Tree Classifier](#decission_tree)<br>\n",
    "4. [Model training](#model_training)<br>\n",
    "    4.1. [Logistic Regression](#logistic_regression)<br>\n",
    "    4.2. [Random Forest Classifier](#random_forest)<br>\n",
    "    4.3. [Comparing Algorithm Performance](#comparing_algorithm_performances)\n",
    "\n"
   ]
  },
  {
   "cell_type": "markdown",
   "id": "9065a981",
   "metadata": {},
   "source": [
    "## 0. Import libraries <a id='imports'></a>\n",
    "[back to top](#table_of_contents)"
   ]
  },
  {
   "cell_type": "code",
   "execution_count": 1,
   "id": "03268ccf",
   "metadata": {},
   "outputs": [],
   "source": [
    "import numpy as np\n",
    "import pandas as pd\n",
    "import seaborn as sns\n",
    "import matplotlib.pyplot as plt"
   ]
  },
  {
   "cell_type": "markdown",
   "id": "089ffddb",
   "metadata": {},
   "source": [
    "## 1. Import data <a id='import_data'></a>\n",
    "[back to top](#table_of_contents)"
   ]
  },
  {
   "cell_type": "code",
   "execution_count": 4,
   "id": "9f91d35e",
   "metadata": {},
   "outputs": [],
   "source": [
    "df = pd.read_csv(\"C:/Users/Justyna/Downloads/Healthcare-Diabetes.csv\")"
   ]
  },
  {
   "cell_type": "markdown",
   "id": "f6d5dd33",
   "metadata": {},
   "source": [
    "## 2 Data exploration <a id='exploration'></a>\n",
    "[back to top](#table_of_contents)"
   ]
  },
  {
   "cell_type": "code",
   "execution_count": 78,
   "id": "9176102d",
   "metadata": {},
   "outputs": [
    {
     "data": {
      "text/html": [
       "<div>\n",
       "<style scoped>\n",
       "    .dataframe tbody tr th:only-of-type {\n",
       "        vertical-align: middle;\n",
       "    }\n",
       "\n",
       "    .dataframe tbody tr th {\n",
       "        vertical-align: top;\n",
       "    }\n",
       "\n",
       "    .dataframe thead th {\n",
       "        text-align: right;\n",
       "    }\n",
       "</style>\n",
       "<table border=\"1\" class=\"dataframe\">\n",
       "  <thead>\n",
       "    <tr style=\"text-align: right;\">\n",
       "      <th></th>\n",
       "      <th>Id</th>\n",
       "      <th>Pregnancies</th>\n",
       "      <th>Glucose</th>\n",
       "      <th>BloodPressure</th>\n",
       "      <th>SkinThickness</th>\n",
       "      <th>Insulin</th>\n",
       "      <th>BMI</th>\n",
       "      <th>DiabetesPedigreeFunction</th>\n",
       "      <th>Age</th>\n",
       "      <th>Outcome</th>\n",
       "    </tr>\n",
       "  </thead>\n",
       "  <tbody>\n",
       "    <tr>\n",
       "      <th>0</th>\n",
       "      <td>1</td>\n",
       "      <td>6</td>\n",
       "      <td>148</td>\n",
       "      <td>72</td>\n",
       "      <td>35</td>\n",
       "      <td>0</td>\n",
       "      <td>33.6</td>\n",
       "      <td>0.627</td>\n",
       "      <td>50</td>\n",
       "      <td>1</td>\n",
       "    </tr>\n",
       "    <tr>\n",
       "      <th>1</th>\n",
       "      <td>2</td>\n",
       "      <td>1</td>\n",
       "      <td>85</td>\n",
       "      <td>66</td>\n",
       "      <td>29</td>\n",
       "      <td>0</td>\n",
       "      <td>26.6</td>\n",
       "      <td>0.351</td>\n",
       "      <td>31</td>\n",
       "      <td>0</td>\n",
       "    </tr>\n",
       "    <tr>\n",
       "      <th>2</th>\n",
       "      <td>3</td>\n",
       "      <td>8</td>\n",
       "      <td>183</td>\n",
       "      <td>64</td>\n",
       "      <td>0</td>\n",
       "      <td>0</td>\n",
       "      <td>23.3</td>\n",
       "      <td>0.672</td>\n",
       "      <td>32</td>\n",
       "      <td>1</td>\n",
       "    </tr>\n",
       "    <tr>\n",
       "      <th>3</th>\n",
       "      <td>4</td>\n",
       "      <td>1</td>\n",
       "      <td>89</td>\n",
       "      <td>66</td>\n",
       "      <td>23</td>\n",
       "      <td>94</td>\n",
       "      <td>28.1</td>\n",
       "      <td>0.167</td>\n",
       "      <td>21</td>\n",
       "      <td>0</td>\n",
       "    </tr>\n",
       "    <tr>\n",
       "      <th>4</th>\n",
       "      <td>5</td>\n",
       "      <td>0</td>\n",
       "      <td>137</td>\n",
       "      <td>40</td>\n",
       "      <td>35</td>\n",
       "      <td>168</td>\n",
       "      <td>43.1</td>\n",
       "      <td>2.288</td>\n",
       "      <td>33</td>\n",
       "      <td>1</td>\n",
       "    </tr>\n",
       "  </tbody>\n",
       "</table>\n",
       "</div>"
      ],
      "text/plain": [
       "   Id  Pregnancies  Glucose  BloodPressure  SkinThickness  Insulin   BMI  \\\n",
       "0   1            6      148             72             35        0  33.6   \n",
       "1   2            1       85             66             29        0  26.6   \n",
       "2   3            8      183             64              0        0  23.3   \n",
       "3   4            1       89             66             23       94  28.1   \n",
       "4   5            0      137             40             35      168  43.1   \n",
       "\n",
       "   DiabetesPedigreeFunction  Age  Outcome  \n",
       "0                     0.627   50        1  \n",
       "1                     0.351   31        0  \n",
       "2                     0.672   32        1  \n",
       "3                     0.167   21        0  \n",
       "4                     2.288   33        1  "
      ]
     },
     "execution_count": 78,
     "metadata": {},
     "output_type": "execute_result"
    }
   ],
   "source": [
    "df.head()"
   ]
  },
  {
   "cell_type": "code",
   "execution_count": 79,
   "id": "998b5933",
   "metadata": {},
   "outputs": [
    {
     "data": {
      "text/plain": [
       "(2768, 10)"
      ]
     },
     "execution_count": 79,
     "metadata": {},
     "output_type": "execute_result"
    }
   ],
   "source": [
    "df.shape"
   ]
  },
  {
   "cell_type": "code",
   "execution_count": 6,
   "id": "b113b839",
   "metadata": {},
   "outputs": [
    {
     "name": "stdout",
     "output_type": "stream",
     "text": [
      "<class 'pandas.core.frame.DataFrame'>\n",
      "RangeIndex: 2768 entries, 0 to 2767\n",
      "Data columns (total 10 columns):\n",
      " #   Column                    Non-Null Count  Dtype  \n",
      "---  ------                    --------------  -----  \n",
      " 0   Id                        2768 non-null   int64  \n",
      " 1   Pregnancies               2768 non-null   int64  \n",
      " 2   Glucose                   2768 non-null   int64  \n",
      " 3   BloodPressure             2768 non-null   int64  \n",
      " 4   SkinThickness             2768 non-null   int64  \n",
      " 5   Insulin                   2768 non-null   int64  \n",
      " 6   BMI                       2768 non-null   float64\n",
      " 7   DiabetesPedigreeFunction  2768 non-null   float64\n",
      " 8   Age                       2768 non-null   int64  \n",
      " 9   Outcome                   2768 non-null   int64  \n",
      "dtypes: float64(2), int64(8)\n",
      "memory usage: 216.4 KB\n"
     ]
    }
   ],
   "source": [
    "df.info()"
   ]
  },
  {
   "cell_type": "code",
   "execution_count": 9,
   "id": "2c7ccabc",
   "metadata": {},
   "outputs": [
    {
     "name": "stdout",
     "output_type": "stream",
     "text": [
      "0       1\n",
      "1       0\n",
      "2       1\n",
      "3       0\n",
      "4       1\n",
      "       ..\n",
      "2763    0\n",
      "2764    1\n",
      "2765    0\n",
      "2766    1\n",
      "2767    0\n",
      "Name: Outcome, Length: 2768, dtype: int64\n"
     ]
    }
   ],
   "source": [
    "print(df['Outcome'])"
   ]
  },
  {
   "cell_type": "code",
   "execution_count": 10,
   "id": "2be5f330",
   "metadata": {},
   "outputs": [
    {
     "data": {
      "text/plain": [
       "0       1\n",
       "1       0\n",
       "2       1\n",
       "3       0\n",
       "4       1\n",
       "       ..\n",
       "2763    0\n",
       "2764    1\n",
       "2765    0\n",
       "2766    1\n",
       "2767    0\n",
       "Name: Outcome, Length: 2768, dtype: int64"
      ]
     },
     "execution_count": 10,
     "metadata": {},
     "output_type": "execute_result"
    }
   ],
   "source": [
    "df.iloc[:, 9]"
   ]
  },
  {
   "cell_type": "code",
   "execution_count": 11,
   "id": "b229e750",
   "metadata": {},
   "outputs": [],
   "source": [
    "x = df.drop('Outcome', axis=1)\n",
    "y = df['Outcome']"
   ]
  },
  {
   "cell_type": "markdown",
   "id": "13698e58",
   "metadata": {},
   "source": [
    "##### X is used for training data. Y is used for testing data."
   ]
  },
  {
   "cell_type": "code",
   "execution_count": 15,
   "id": "3ead9ae5",
   "metadata": {},
   "outputs": [
    {
     "data": {
      "text/plain": [
       "0    1816\n",
       "1     952\n",
       "Name: Outcome, dtype: int64"
      ]
     },
     "execution_count": 15,
     "metadata": {},
     "output_type": "execute_result"
    }
   ],
   "source": [
    "df['Outcome'].value_counts()"
   ]
  },
  {
   "cell_type": "code",
   "execution_count": 19,
   "id": "4465220a",
   "metadata": {},
   "outputs": [
    {
     "data": {
      "text/plain": [
       "<Axes: >"
      ]
     },
     "execution_count": 19,
     "metadata": {},
     "output_type": "execute_result"
    },
    {
     "data": {
      "image/png": "[encoded data removed]",
      "text/plain": [
       "<Figure size 600x400 with 1 Axes>"
      ]
     },
     "metadata": {},
     "output_type": "display_data"
    }
   ],
   "source": [
    "df['Outcome'].value_counts().plot(kind='bar', figsize=(6,4))"
   ]
  },
  {
   "cell_type": "code",
   "execution_count": 21,
   "id": "f0cf8119",
   "metadata": {},
   "outputs": [
    {
     "data": {
      "text/plain": [
       "<Axes: xlabel='Outcome', ylabel='count'>"
      ]
     },
     "execution_count": 21,
     "metadata": {},
     "output_type": "execute_result"
    },
    {
     "data": {
      "image/png": "[encoded data removed]",
      "text/plain": [
       "<Figure size 600x400 with 1 Axes>"
      ]
     },
     "metadata": {},
     "output_type": "display_data"
    }
   ],
   "source": [
    "plt.figure(figsize=(6,4))\n",
    "sns.countplot(data=df, x='Outcome')"
   ]
  },
  {
   "cell_type": "code",
   "execution_count": 22,
   "id": "b6066ba0",
   "metadata": {},
   "outputs": [
    {
     "data": {
      "text/plain": [
       "Id                          0\n",
       "Pregnancies                 0\n",
       "Glucose                     0\n",
       "BloodPressure               0\n",
       "SkinThickness               0\n",
       "Insulin                     0\n",
       "BMI                         0\n",
       "DiabetesPedigreeFunction    0\n",
       "Age                         0\n",
       "Outcome                     0\n",
       "dtype: int64"
      ]
     },
     "execution_count": 22,
     "metadata": {},
     "output_type": "execute_result"
    }
   ],
   "source": [
    "df.isnull().sum()"
   ]
  },
  {
   "cell_type": "code",
   "execution_count": 23,
   "id": "082c2ffe",
   "metadata": {
    "scrolled": true
   },
   "outputs": [
    {
     "data": {
      "text/plain": [
       "array([[<Axes: title={'center': 'Id'}>,\n",
       "        <Axes: title={'center': 'Pregnancies'}>,\n",
       "        <Axes: title={'center': 'Glucose'}>],\n",
       "       [<Axes: title={'center': 'BloodPressure'}>,\n",
       "        <Axes: title={'center': 'SkinThickness'}>,\n",
       "        <Axes: title={'center': 'Insulin'}>],\n",
       "       [<Axes: title={'center': 'BMI'}>,\n",
       "        <Axes: title={'center': 'DiabetesPedigreeFunction'}>,\n",
       "        <Axes: title={'center': 'Age'}>],\n",
       "       [<Axes: title={'center': 'Outcome'}>, <Axes: >, <Axes: >]],\n",
       "      dtype=object)"
      ]
     },
     "execution_count": 23,
     "metadata": {},
     "output_type": "execute_result"
    },
    {
     "data": {
      "image/png": "[encoded data removed]",
      "text/plain": [
       "<Figure size 2000x1000 with 12 Axes>"
      ]
     },
     "metadata": {},
     "output_type": "display_data"
    }
   ],
   "source": [
    "df.hist(figsize=(20,10), bins=60)"
   ]
  },
  {
   "cell_type": "code",
   "execution_count": 27,
   "id": "30da9ddc",
   "metadata": {
    "scrolled": true
   },
   "outputs": [
    {
     "name": "stdout",
     "output_type": "stream",
     "text": [
      "                  Id\n",
      "Outcome             \n",
      "0        1388.143722\n",
      "1        1377.549370\n",
      "\n",
      "------------------\n",
      "         Pregnancies\n",
      "Outcome             \n",
      "0           3.204295\n",
      "1           4.769958\n",
      "\n",
      "------------------\n",
      "            Glucose\n",
      "Outcome            \n",
      "0        110.419604\n",
      "1        141.481092\n",
      "\n",
      "------------------\n",
      "         BloodPressure\n",
      "Outcome               \n",
      "0            68.119493\n",
      "1            71.070378\n",
      "\n",
      "------------------\n",
      "         SkinThickness\n",
      "Outcome               \n",
      "0            19.945485\n",
      "1            22.501050\n",
      "\n",
      "------------------\n",
      "           Insulin\n",
      "Outcome           \n",
      "0        70.075991\n",
      "1        99.302521\n",
      "\n",
      "------------------\n",
      "               BMI\n",
      "Outcome           \n",
      "0        30.494989\n",
      "1        35.270378\n",
      "\n",
      "------------------\n",
      "         DiabetesPedigreeFunction\n",
      "Outcome                          \n",
      "0                        0.433316\n",
      "1                        0.543445\n",
      "\n",
      "------------------\n",
      "               Age\n",
      "Outcome           \n",
      "0        31.111233\n",
      "1        36.987395\n",
      "\n",
      "------------------\n"
     ]
    }
   ],
   "source": [
    "def target_summary_with_num(dataframe, target, numerical_col):\n",
    "    print(dataframe.groupby(target).agg({numerical_col: \"mean\"}), end=\"\\n\\n\")\n",
    "    print('------------------')\n",
    "    \n",
    "    \n",
    "for col in num_cols:\n",
    "    target_summary_with_num(df, \"Outcome\", col)"
   ]
  },
  {
   "cell_type": "code",
   "execution_count": 30,
   "id": "126d1a67",
   "metadata": {},
   "outputs": [
    {
     "data": {
      "text/plain": [
       "<Axes: xlabel='Outcome', ylabel='Age'>"
      ]
     },
     "execution_count": 30,
     "metadata": {},
     "output_type": "execute_result"
    },
    {
     "data": {
      "image/png": "[encoded data removed]",
      "text/plain": [
       "<Figure size 640x480 with 1 Axes>"
      ]
     },
     "metadata": {},
     "output_type": "display_data"
    }
   ],
   "source": [
    "plt.figure(dpi=100)\n",
    "sns.boxplot(data=df, x='Outcome', y='Age')"
   ]
  },
  {
   "cell_type": "code",
   "execution_count": 31,
   "id": "6c01d210",
   "metadata": {},
   "outputs": [
    {
     "name": "stdout",
     "output_type": "stream",
     "text": [
      "0       False\n",
      "1       False\n",
      "2       False\n",
      "3       False\n",
      "4       False\n",
      "        ...  \n",
      "2763    False\n",
      "2764    False\n",
      "2765    False\n",
      "2766    False\n",
      "2767    False\n",
      "Length: 2768, dtype: bool\n"
     ]
    }
   ],
   "source": [
    "duplicates = df.duplicated()\n",
    "print(duplicates)"
   ]
  },
  {
   "cell_type": "markdown",
   "id": "96da38b7",
   "metadata": {},
   "source": [
    "#### There are no null values and duplicates."
   ]
  },
  {
   "cell_type": "code",
   "execution_count": 33,
   "id": "28b90249",
   "metadata": {},
   "outputs": [
    {
     "data": {
      "image/png": "[encoded data removed]",
      "text/plain": [
       "<Figure size 800x400 with 2 Axes>"
      ]
     },
     "metadata": {},
     "output_type": "display_data"
    }
   ],
   "source": [
    "corr = df.corr()\n",
    "\n",
    "# Generate a mask for the upper triangle\n",
    "mask = np.triu(np.ones_like(corr, dtype=bool))\n",
    "\n",
    "# Set up the matplotlib figure\n",
    "f, ax = plt.subplots(figsize=(8, 4))\n",
    "\n",
    "# Generate a custom diverging colormap\n",
    "cmap = sns.diverging_palette(230, 20, as_cmap=True)\n",
    "\n",
    "# Draw the heatmap with the mask and correct aspect ratio\n",
    "sns.heatmap(corr, mask=mask, cmap=cmap, vmax=.3, center=0,\n",
    "            square=True, linewidths=.5, cbar_kws={\"shrink\": .5})\n",
    "\n",
    "plt.show()"
   ]
  },
  {
   "cell_type": "markdown",
   "id": "07e245ba",
   "metadata": {},
   "source": [
    "#### There is a lot of positive correlation which is shown by the orange trends in the heatmap."
   ]
  },
  {
   "cell_type": "code",
   "execution_count": 34,
   "id": "ce87c3a4",
   "metadata": {},
   "outputs": [
    {
     "data": {
      "text/html": [
       "<div>\n",
       "<style scoped>\n",
       "    .dataframe tbody tr th:only-of-type {\n",
       "        vertical-align: middle;\n",
       "    }\n",
       "\n",
       "    .dataframe tbody tr th {\n",
       "        vertical-align: top;\n",
       "    }\n",
       "\n",
       "    .dataframe thead th {\n",
       "        text-align: right;\n",
       "    }\n",
       "</style>\n",
       "<table border=\"1\" class=\"dataframe\">\n",
       "  <thead>\n",
       "    <tr style=\"text-align: right;\">\n",
       "      <th></th>\n",
       "      <th>Id</th>\n",
       "      <th>Pregnancies</th>\n",
       "      <th>Glucose</th>\n",
       "      <th>BloodPressure</th>\n",
       "      <th>SkinThickness</th>\n",
       "      <th>Insulin</th>\n",
       "      <th>BMI</th>\n",
       "      <th>DiabetesPedigreeFunction</th>\n",
       "      <th>Age</th>\n",
       "      <th>Outcome</th>\n",
       "    </tr>\n",
       "  </thead>\n",
       "  <tbody>\n",
       "    <tr>\n",
       "      <th>Id</th>\n",
       "      <td>1.000000</td>\n",
       "      <td>-0.024222</td>\n",
       "      <td>0.015010</td>\n",
       "      <td>0.009717</td>\n",
       "      <td>0.017702</td>\n",
       "      <td>0.007359</td>\n",
       "      <td>0.024007</td>\n",
       "      <td>-0.009695</td>\n",
       "      <td>-0.007404</td>\n",
       "      <td>-0.006298</td>\n",
       "    </tr>\n",
       "    <tr>\n",
       "      <th>Pregnancies</th>\n",
       "      <td>-0.024222</td>\n",
       "      <td>1.000000</td>\n",
       "      <td>0.122839</td>\n",
       "      <td>0.147253</td>\n",
       "      <td>-0.068673</td>\n",
       "      <td>-0.075734</td>\n",
       "      <td>0.018761</td>\n",
       "      <td>-0.027731</td>\n",
       "      <td>0.540805</td>\n",
       "      <td>0.223796</td>\n",
       "    </tr>\n",
       "    <tr>\n",
       "      <th>Glucose</th>\n",
       "      <td>0.015010</td>\n",
       "      <td>0.122839</td>\n",
       "      <td>1.000000</td>\n",
       "      <td>0.142095</td>\n",
       "      <td>0.061023</td>\n",
       "      <td>0.323445</td>\n",
       "      <td>0.225308</td>\n",
       "      <td>0.127195</td>\n",
       "      <td>0.256958</td>\n",
       "      <td>0.460644</td>\n",
       "    </tr>\n",
       "    <tr>\n",
       "      <th>BloodPressure</th>\n",
       "      <td>0.009717</td>\n",
       "      <td>0.147253</td>\n",
       "      <td>0.142095</td>\n",
       "      <td>1.000000</td>\n",
       "      <td>0.201167</td>\n",
       "      <td>0.087823</td>\n",
       "      <td>0.281560</td>\n",
       "      <td>0.048471</td>\n",
       "      <td>0.238684</td>\n",
       "      <td>0.072900</td>\n",
       "    </tr>\n",
       "    <tr>\n",
       "      <th>SkinThickness</th>\n",
       "      <td>0.017702</td>\n",
       "      <td>-0.068673</td>\n",
       "      <td>0.061023</td>\n",
       "      <td>0.201167</td>\n",
       "      <td>1.000000</td>\n",
       "      <td>0.445345</td>\n",
       "      <td>0.393494</td>\n",
       "      <td>0.179830</td>\n",
       "      <td>-0.111895</td>\n",
       "      <td>0.075603</td>\n",
       "    </tr>\n",
       "    <tr>\n",
       "      <th>Insulin</th>\n",
       "      <td>0.007359</td>\n",
       "      <td>-0.075734</td>\n",
       "      <td>0.323445</td>\n",
       "      <td>0.087823</td>\n",
       "      <td>0.445345</td>\n",
       "      <td>1.000000</td>\n",
       "      <td>0.215926</td>\n",
       "      <td>0.190500</td>\n",
       "      <td>-0.073458</td>\n",
       "      <td>0.123646</td>\n",
       "    </tr>\n",
       "    <tr>\n",
       "      <th>BMI</th>\n",
       "      <td>0.024007</td>\n",
       "      <td>0.018761</td>\n",
       "      <td>0.225308</td>\n",
       "      <td>0.281560</td>\n",
       "      <td>0.393494</td>\n",
       "      <td>0.215926</td>\n",
       "      <td>1.000000</td>\n",
       "      <td>0.129766</td>\n",
       "      <td>0.038175</td>\n",
       "      <td>0.280928</td>\n",
       "    </tr>\n",
       "    <tr>\n",
       "      <th>DiabetesPedigreeFunction</th>\n",
       "      <td>-0.009695</td>\n",
       "      <td>-0.027731</td>\n",
       "      <td>0.127195</td>\n",
       "      <td>0.048471</td>\n",
       "      <td>0.179830</td>\n",
       "      <td>0.190500</td>\n",
       "      <td>0.129766</td>\n",
       "      <td>1.000000</td>\n",
       "      <td>0.028544</td>\n",
       "      <td>0.160664</td>\n",
       "    </tr>\n",
       "    <tr>\n",
       "      <th>Age</th>\n",
       "      <td>-0.007404</td>\n",
       "      <td>0.540805</td>\n",
       "      <td>0.256958</td>\n",
       "      <td>0.238684</td>\n",
       "      <td>-0.111895</td>\n",
       "      <td>-0.073458</td>\n",
       "      <td>0.038175</td>\n",
       "      <td>0.028544</td>\n",
       "      <td>1.000000</td>\n",
       "      <td>0.237050</td>\n",
       "    </tr>\n",
       "    <tr>\n",
       "      <th>Outcome</th>\n",
       "      <td>-0.006298</td>\n",
       "      <td>0.223796</td>\n",
       "      <td>0.460644</td>\n",
       "      <td>0.072900</td>\n",
       "      <td>0.075603</td>\n",
       "      <td>0.123646</td>\n",
       "      <td>0.280928</td>\n",
       "      <td>0.160664</td>\n",
       "      <td>0.237050</td>\n",
       "      <td>1.000000</td>\n",
       "    </tr>\n",
       "  </tbody>\n",
       "</table>\n",
       "</div>"
      ],
      "text/plain": [
       "                                Id  Pregnancies   Glucose  BloodPressure  \\\n",
       "Id                        1.000000    -0.024222  0.015010       0.009717   \n",
       "Pregnancies              -0.024222     1.000000  0.122839       0.147253   \n",
       "Glucose                   0.015010     0.122839  1.000000       0.142095   \n",
       "BloodPressure             0.009717     0.147253  0.142095       1.000000   \n",
       "SkinThickness             0.017702    -0.068673  0.061023       0.201167   \n",
       "Insulin                   0.007359    -0.075734  0.323445       0.087823   \n",
       "BMI                       0.024007     0.018761  0.225308       0.281560   \n",
       "DiabetesPedigreeFunction -0.009695    -0.027731  0.127195       0.048471   \n",
       "Age                      -0.007404     0.540805  0.256958       0.238684   \n",
       "Outcome                  -0.006298     0.223796  0.460644       0.072900   \n",
       "\n",
       "                          SkinThickness   Insulin       BMI  \\\n",
       "Id                             0.017702  0.007359  0.024007   \n",
       "Pregnancies                   -0.068673 -0.075734  0.018761   \n",
       "Glucose                        0.061023  0.323445  0.225308   \n",
       "BloodPressure                  0.201167  0.087823  0.281560   \n",
       "SkinThickness                  1.000000  0.445345  0.393494   \n",
       "Insulin                        0.445345  1.000000  0.215926   \n",
       "BMI                            0.393494  0.215926  1.000000   \n",
       "DiabetesPedigreeFunction       0.179830  0.190500  0.129766   \n",
       "Age                           -0.111895 -0.073458  0.038175   \n",
       "Outcome                        0.075603  0.123646  0.280928   \n",
       "\n",
       "                          DiabetesPedigreeFunction       Age   Outcome  \n",
       "Id                                       -0.009695 -0.007404 -0.006298  \n",
       "Pregnancies                              -0.027731  0.540805  0.223796  \n",
       "Glucose                                   0.127195  0.256958  0.460644  \n",
       "BloodPressure                             0.048471  0.238684  0.072900  \n",
       "SkinThickness                             0.179830 -0.111895  0.075603  \n",
       "Insulin                                   0.190500 -0.073458  0.123646  \n",
       "BMI                                       0.129766  0.038175  0.280928  \n",
       "DiabetesPedigreeFunction                  1.000000  0.028544  0.160664  \n",
       "Age                                       0.028544  1.000000  0.237050  \n",
       "Outcome                                   0.160664  0.237050  1.000000  "
      ]
     },
     "execution_count": 34,
     "metadata": {},
     "output_type": "execute_result"
    }
   ],
   "source": [
    "corr"
   ]
  },
  {
   "cell_type": "code",
   "execution_count": 35,
   "id": "5fe7509d",
   "metadata": {},
   "outputs": [
    {
     "data": {
      "image/png": "[encoded data removed]",
      "text/plain": [
       "<Figure size 640x480 with 1 Axes>"
      ]
     },
     "metadata": {},
     "output_type": "display_data"
    }
   ],
   "source": [
    "plt.figure(dpi=100)\n",
    "sns.boxplot(data=df, x='Outcome',y='Glucose')\n",
    "plt.show()"
   ]
  },
  {
   "cell_type": "markdown",
   "id": "74e25a52",
   "metadata": {},
   "source": [
    "#### From the boxplot we can see that patients who are diabetic (1) have higher glucose levels than the patients who do not have diabetes (0). We can include glucose levels in our model. "
   ]
  },
  {
   "cell_type": "markdown",
   "id": "d39de63a",
   "metadata": {},
   "source": [
    "## 3 Benchmark Model <a id='benchmark'></a>"
   ]
  },
  {
   "cell_type": "code",
   "execution_count": 60,
   "id": "ee666c54",
   "metadata": {},
   "outputs": [],
   "source": [
    "diabetes_benchmark = df.copy()"
   ]
  },
  {
   "cell_type": "code",
   "execution_count": 61,
   "id": "d8ea00a9",
   "metadata": {},
   "outputs": [
    {
     "data": {
      "text/plain": [
       "Index(['Id', 'Pregnancies', 'Glucose', 'BloodPressure', 'SkinThickness',\n",
       "       'Insulin', 'BMI', 'DiabetesPedigreeFunction', 'Age', 'Outcome'],\n",
       "      dtype='object')"
      ]
     },
     "execution_count": 61,
     "metadata": {},
     "output_type": "execute_result"
    }
   ],
   "source": [
    "diabetes_benchmark.columns"
   ]
  },
  {
   "cell_type": "code",
   "execution_count": 62,
   "id": "dd92b3a6",
   "metadata": {},
   "outputs": [],
   "source": [
    "features = ['Pregnancies','Glucose', 'BloodPressure','SkinThickness','Insulin', 'BMI', 'DiabetesPedigreeFunction', 'Age']"
   ]
  },
  {
   "cell_type": "code",
   "execution_count": 63,
   "id": "7cf7945e",
   "metadata": {},
   "outputs": [],
   "source": [
    "target_feature = 'Outcome'"
   ]
  },
  {
   "cell_type": "markdown",
   "id": "bef41144",
   "metadata": {},
   "source": [
    "### 3.1 Decision Tree Classifier <a id='decisionTree'></a>"
   ]
  },
  {
   "cell_type": "code",
   "execution_count": 69,
   "id": "b54bfbff",
   "metadata": {
    "scrolled": true
   },
   "outputs": [
    {
     "name": "stdout",
     "output_type": "stream",
     "text": [
      "Confusion Matrix:\n",
      " [[585  31]\n",
      " [ 46 252]]\n",
      "\n",
      "Classification Report:\n",
      "               precision    recall  f1-score   support\n",
      "\n",
      "           0       0.93      0.95      0.94       616\n",
      "           1       0.89      0.85      0.87       298\n",
      "\n",
      "    accuracy                           0.92       914\n",
      "   macro avg       0.91      0.90      0.90       914\n",
      "weighted avg       0.92      0.92      0.92       914\n",
      "\n",
      "Accuracy Score: 0.9157549234135668\n"
     ]
    }
   ],
   "source": [
    "from sklearn.model_selection import train_test_split \n",
    "from sklearn.tree import DecisionTreeClassifier\n",
    "from sklearn.metrics import accuracy_score, classification_report, confusion_matrix\n",
    "\n",
    "# Separate features and target variable\n",
    "x_bench = diabetes_benchmark[features]\n",
    "y_bench = diabetes_benchmark[target_feature]\n",
    "\n",
    "# one-hot encode\n",
    "x_bench = pd.get_dummies(x_bench)\n",
    "x_train_b, x_test_b, y_train_b, y_test_b = train_test_split(x_bench, y_bench, test_size=0.33, random_state=42)\n",
    "\n",
    "# Train the model\n",
    "tree = DecisionTreeClassifier(max_depth=10, random_state=42)\n",
    "tree.fit(x_train_b, y_train_b)\n",
    "\n",
    "# Make predictions\n",
    "y_pred_b = tree.predict(x_test_b)\n",
    "\n",
    "# Evaluate the model\n",
    "print('Confusion Matrix:\\n', confusion_matrix(y_test_b, y_pred_b))\n",
    "print('\\nClassification Report:\\n', classification_report(y_test_b, y_pred_b))\n",
    "print('Accuracy Score:', accuracy_score(y_test_b, y_pred_b))\n"
   ]
  },
  {
   "cell_type": "markdown",
   "id": "8bcd7c87",
   "metadata": {},
   "source": [
    "#### The confusion matrix shows that the majority of the predictions fall into the true positive and true negative categories. This means that the model is predicting the presence or absence of diabetes for most cases. \n",
    "\n",
    "#### The overall accuracy of the model is 91.6 % which is quite high. "
   ]
  },
  {
   "cell_type": "markdown",
   "id": "80fe3fb9",
   "metadata": {},
   "source": [
    "## 4 Model Training <a id='models'></a>"
   ]
  },
  {
   "cell_type": "markdown",
   "id": "7cb34d80",
   "metadata": {},
   "source": [
    "### 4.1 Logistic Regression <a id='LogisticReg'></a>"
   ]
  },
  {
   "cell_type": "code",
   "execution_count": 72,
   "id": "1bd28713",
   "metadata": {},
   "outputs": [
    {
     "name": "stdout",
     "output_type": "stream",
     "text": [
      "Confusion Matrix: \n",
      " [[555  61]\n",
      " [135 163]]\n",
      "\n",
      " Classification Report: \n",
      "               precision    recall  f1-score   support\n",
      "\n",
      "           0       0.80      0.90      0.85       616\n",
      "           1       0.73      0.55      0.62       298\n",
      "\n",
      "    accuracy                           0.79       914\n",
      "   macro avg       0.77      0.72      0.74       914\n",
      "weighted avg       0.78      0.79      0.78       914\n",
      "\n",
      "Accuracy Score: 0.7855579868708972\n"
     ]
    }
   ],
   "source": [
    "from sklearn.linear_model import LogisticRegression\n",
    "# separate features and the target feature\n",
    "x_bench = diabetes_benchmark[features]\n",
    "y_bench = diabetes_benchmark[target_feature]\n",
    "\n",
    "\n",
    "x_train_b, x_test_b, y_train_b, y_test_b = train_test_split(x_bench, y_bench, test_size=0.33, random_state=42)\n",
    "\n",
    "#Train the model\n",
    "model = LogisticRegression(max_iter=1000, random_state=42)\n",
    "model.fit(x_train_b, y_train_b)\n",
    "\n",
    "#make predictions\n",
    "y_pred_b = model.predict(x_test_b)\n",
    "\n",
    "#evaluate the model\n",
    "print('Confusion Matrix: \\n', confusion_matrix(y_test_b, y_pred_b))\n",
    "print('\\n Classification Report: \\n', classification_report(y_test_b, y_pred_b))\n",
    "print('Accuracy Score:', accuracy_score(y_test_b, y_pred_b))"
   ]
  },
  {
   "cell_type": "markdown",
   "id": "a26b0bc2",
   "metadata": {},
   "source": [
    "###  4.2  Random Forest Classifier <a id='randomForest'></a>"
   ]
  },
  {
   "cell_type": "code",
   "execution_count": 73,
   "id": "1451f5c7",
   "metadata": {},
   "outputs": [
    {
     "name": "stdout",
     "output_type": "stream",
     "text": [
      "Confusion Matrix:\n",
      " [[601  15]\n",
      " [  8 290]]\n",
      "\n",
      "Classification Report:\n",
      "               precision    recall  f1-score   support\n",
      "\n",
      "           0       0.99      0.98      0.98       616\n",
      "           1       0.95      0.97      0.96       298\n",
      "\n",
      "    accuracy                           0.97       914\n",
      "   macro avg       0.97      0.97      0.97       914\n",
      "weighted avg       0.98      0.97      0.97       914\n",
      "\n",
      "Accuracy Score: 0.9748358862144421\n"
     ]
    }
   ],
   "source": [
    "from sklearn.ensemble import RandomForestClassifier \n",
    "from sklearn.metrics import confusion_matrix, classification_report, accuracy_score\n",
    "from sklearn.model_selection import train_test_split\n",
    "import pandas as pd\n",
    "\n",
    "# Separate features and the target feature\n",
    "X = diabetes_benchmark[features]\n",
    "y = diabetes_benchmark[target_feature]\n",
    "\n",
    "# Split the data into training and testing sets\n",
    "X_train, X_test, y_train, y_test = train_test_split(X, y, test_size=0.33, random_state=42)\n",
    "\n",
    "# Train the model\n",
    "model = RandomForestClassifier(random_state=42, n_estimators=100)\n",
    "model.fit(X_train, y_train)\n",
    "\n",
    "# Make predictions\n",
    "y_pred = model.predict(X_test)\n",
    "\n",
    "# Evaluate the model\n",
    "print('Confusion Matrix:\\n', confusion_matrix(y_test, y_pred))\n",
    "print('\\nClassification Report:\\n', classification_report(y_test, y_pred))\n",
    "print('Accuracy Score:', accuracy_score(y_test, y_pred))"
   ]
  },
  {
   "cell_type": "markdown",
   "id": "90af9e92",
   "metadata": {},
   "source": [
    "###  4.3  Comparing Algorithm Performances <a id = 'algo_performances'></a>"
   ]
  },
  {
   "cell_type": "markdown",
   "id": "8b5f88a4",
   "metadata": {},
   "source": [
    "| Metrics / Models | DecisionTree Classifier (%)| Logistic Regression (%)| RandomForest Classifier(%)|\n",
    "|------------------|----------------|----------------|----------------|\n",
    "| Accuracy         | 91.57          | 78.55          | 97.48          |\n",
    "|                  |                |                |                |\n",
    "| **Class 0**      |                |                |                |\n",
    "| Precision        | 93             | 80             | 99             |\n",
    "| Recall           | 95             | 90             | 98             |\n",
    "| F1-score         | 94             | 85             | 98             |\n",
    "|                  |                |                |                |\n",
    "| **Class 1**      |                |                |                |\n",
    "| Precision        | 89             | 73             | 95             |\n",
    "| Recall           | 85             | 55             | 97             |\n",
    "| F1-score         | 87             | 62             | 96             |\n"
   ]
  },
  {
   "cell_type": "code",
   "execution_count": null,
   "id": "b9963583",
   "metadata": {},
   "outputs": [],
   "source": []
  }
 ],
 "metadata": {
  "kernelspec": {
   "display_name": "Python 3 (ipykernel)",
   "language": "python",
   "name": "python3"
  },
  "language_info": {
   "codemirror_mode": {
    "name": "ipython",
    "version": 3
   },
   "file_extension": ".py",
   "mimetype": "text/x-python",
   "name": "python",
   "nbconvert_exporter": "python",
   "pygments_lexer": "ipython3",
   "version": "3.11.3"
  }
 },
 "nbformat": 4,
 "nbformat_minor": 5
}
